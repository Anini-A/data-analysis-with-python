{
 "cells": [
  {
   "cell_type": "markdown",
   "metadata": {
    "tags": []
   },
   "source": [
    "# Project Mean-Variance-Standard Deviation Calculator 🧮\n",
    "![purple-divider](https://user-images.githubusercontent.com/7065401/52071927-c1cd7100-2562-11e9-908a-dde91ba14e59.png)\n",
    "- Create a function named calculate() in mean_var_std.py that uses Numpy to output the mean, variance, standard deviation, max, min, and sum of the rows, columns, and elements in a 3 x 3 matrix.\n",
    "- The input of the function should be a list containing 9 digits. \n",
    "- The function should convert the list into a 3 x 3 Numpy array, and then return a dictionary containing the mean, variance, standard deviation, max, min, and sum along both axes and for the flattened matrix.\n",
    "\n",
    "- If a list containing less than 9 elements is passed into the function, it should raise a ValueError exception with the message: \"List must contain nine numbers.\" The values in the returned dictionary should be lists and not Numpy arrays."
   ]
  },
  {
   "cell_type": "code",
   "execution_count": 53,
   "metadata": {},
   "outputs": [
    {
     "name": "stdout",
     "output_type": "stream",
     "text": [
      "1.4.4\n"
     ]
    }
   ],
   "source": [
    "# Import the numpy package under the name np\n",
    "import numpy as np\n",
    "\n",
    "# Import the pandas package under the name pd\n",
    "import pandas as pd\n",
    "\n",
    "# Print the pandas version and the configuration\n",
    "print(pd.__version__)"
   ]
  },
  {
   "cell_type": "code",
   "execution_count": 54,
   "metadata": {},
   "outputs": [],
   "source": [
    "def calculate(list):\n",
    "    \n",
    "  # Check if the input list contains exactly 9 numbers\n",
    "    \n",
    "  if len(list) != 9:\n",
    "     raise ValueError(\"List must contain nine numbers.\")   \n",
    "\n",
    "  # Convert the list into a 3x3 NumPy array\n",
    "  matrix = np.array(list).reshape((3, 3))\n",
    "  \n",
    "  # Calculate the mean, variance, standard deviation, max, min, and sum of the matrix\n",
    "  # Mean\n",
    "  mean_rows = np.mean(matrix, axis=0)\n",
    "  mean_cols = np.mean(matrix, axis=1)\n",
    "  mean_all = np.mean(matrix)\n",
    "  # Variance\n",
    "  var_rows = np.var(matrix, axis=0)\n",
    "  var_cols = np.var(matrix, axis=1)\n",
    "  var_all = np.var(matrix)\n",
    "  # Standard deviation\n",
    "  std_rows = np.std(matrix, axis=0)\n",
    "  std_cols = np.std(matrix, axis=1)\n",
    "  std_all = np.std(matrix)\n",
    "  # Max\n",
    "  max_rows = np.max(matrix, axis=0)\n",
    "  max_cols = np.max(matrix, axis=1)\n",
    "  max_all = np.max(matrix)\n",
    "  # Min\n",
    "  min_rows = np.min(matrix, axis=0)\n",
    "  min_cols = np.min(matrix, axis=1)\n",
    "  min_all = np.min(matrix)\n",
    "  # Sum\n",
    "  sum_rows = np.sum(matrix, axis=0)\n",
    "  sum_cols = np.sum(matrix, axis=1)\n",
    "  sum_all = np.sum(matrix)\n",
    "\n",
    "  # Store the results in a dictionary\n",
    "  calculations = {\n",
    "    'mean': [mean_rows.tolist(),\n",
    "             mean_cols.tolist(), mean_all],\n",
    "    'variance': [var_rows.tolist(),\n",
    "                 var_cols.tolist(), var_all],\n",
    "    'standard deviation': [std_rows.tolist(),\n",
    "                           std_cols.tolist(), std_all],\n",
    "    'max': [max_rows.tolist(), max_cols.tolist(), max_all],\n",
    "    'min': [min_rows.tolist(), min_cols.tolist(), min_all],\n",
    "    'sum': [sum_rows.tolist(), sum_cols.tolist(), sum_all]\n",
    "  }\n",
    "\n",
    "  return calculations"
   ]
  },
  {
   "cell_type": "markdown",
   "metadata": {},
   "source": [
    "#### Testing\n",
    "![green-divider](https://user-images.githubusercontent.com/7065401/52071924-c003ad80-2562-11e9-8297-1c6595f8a7ff.png)"
   ]
  },
  {
   "cell_type": "code",
   "execution_count": 55,
   "metadata": {},
   "outputs": [
    {
     "data": {
      "text/plain": [
       "{'mean': [[3.0, 4.0, 5.0], [1.0, 4.0, 7.0], 4.0],\n",
       " 'variance': [[6.0, 6.0, 6.0],\n",
       "  [0.6666666666666666, 0.6666666666666666, 0.6666666666666666],\n",
       "  6.666666666666667],\n",
       " 'standard deviation': [[2.449489742783178,\n",
       "   2.449489742783178,\n",
       "   2.449489742783178],\n",
       "  [0.816496580927726, 0.816496580927726, 0.816496580927726],\n",
       "  2.581988897471611],\n",
       " 'max': [[6, 7, 8], [2, 5, 8], 8],\n",
       " 'min': [[0, 1, 2], [0, 3, 6], 0],\n",
       " 'sum': [[9, 12, 15], [3, 12, 21], 36]}"
      ]
     },
     "execution_count": 55,
     "metadata": {},
     "output_type": "execute_result"
    }
   ],
   "source": [
    "calculate([0,1,2,3,4,5,6,7,8])"
   ]
  }
 ],
 "metadata": {
  "kernelspec": {
   "display_name": "Python 3 (ipykernel)",
   "language": "python",
   "name": "python3"
  },
  "language_info": {
   "codemirror_mode": {
    "name": "ipython",
    "version": 3
   },
   "file_extension": ".py",
   "mimetype": "text/x-python",
   "name": "python",
   "nbconvert_exporter": "python",
   "pygments_lexer": "ipython3",
   "version": "3.9.13"
  }
 },
 "nbformat": 4,
 "nbformat_minor": 4
}
