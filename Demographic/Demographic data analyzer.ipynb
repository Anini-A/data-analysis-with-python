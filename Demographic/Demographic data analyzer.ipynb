{
 "cells": [
  {
   "cell_type": "markdown",
   "id": "810195ec-598a-4f54-a7a3-4aea768ba753",
   "metadata": {
    "tags": []
   },
   "source": [
    "# Demographic Data Anlyser 👥\n",
    "\n",
    "![purple-divider](https://user-images.githubusercontent.com/7065401/52071927-c1cd7100-2562-11e9-908a-dde91ba14e59.png)\n",
    "\n",
    "In this challenge you must analyze demographic data using Pandas. You are given a dataset of demographic data that was extracted from the 1994 Census database. Here is a sample of what the data looks like:\n",
    "\n",
    "|    |   age | workclass        |   fnlwgt | education   |   education-num | marital-status     | occupation        | relationship   | race   | sex    |   capital-gain |   capital-loss |   hours-per-week | native-country   | salary   |\n",
    "|---:|------:|:-----------------|---------:|:------------|----------------:|:-------------------|:------------------|:---------------|:-------|:-------|---------------:|---------------:|-----------------:|:-----------------|:---------|\n",
    "|  0 |    39 | State-gov        |    77516 | Bachelors   |              13 | Never-married      | Adm-clerical      | Not-in-family  | White  | Male   |           2174 |              0 |               40 | United-States    | <=50K    |\n",
    "|  1 |    50 | Self-emp-not-inc |    83311 | Bachelors   |              13 | Married-civ-spouse | Exec-managerial   | Husband        | White  | Male   |              0 |              0 |               13 | United-States    | <=50K    |\n",
    "|  2 |    38 | Private          |   215646 | HS-grad     |               9 | Divorced           | Handlers-cleaners | Not-in-family  | White  | Male   |              0 |              0 |               40 | United-States    | <=50K    |\n",
    "|  3 |    53 | Private          |   234721 | 11th        |               7 | Married-civ-spouse | Handlers-cleaners | Husband        | Black  | Male   |              0 |              0 |               40 | United-States    | <=50K    |\n",
    "|  4 |    28 | Private          |   338409 | Bachelors   |              13 | Married-civ-spouse | Prof-specialty    | Wife           | Black  | Female |              0 |              0 |               40 | Cuba             | <=50K    |"
   ]
  },
  {
   "cell_type": "markdown",
   "id": "148dcdf5-b711-4157-a0d6-ef8bc3651c31",
   "metadata": {},
   "source": [
    "## Importing data and checking key stats 📖\n",
    "![green-divider](https://user-images.githubusercontent.com/7065401/52071924-c003ad80-2562-11e9-8297-1c6595f8a7ff.png)"
   ]
  },
  {
   "cell_type": "code",
   "execution_count": 1,
   "id": "193f7bc9-3099-4952-ac51-f5464cfce5ad",
   "metadata": {
    "tags": []
   },
   "outputs": [
    {
     "name": "stdout",
     "output_type": "stream",
     "text": [
      "<class 'pandas.core.frame.DataFrame'>\n",
      "RangeIndex: 32561 entries, 0 to 32560\n",
      "Data columns (total 15 columns):\n",
      " #   Column          Non-Null Count  Dtype \n",
      "---  ------          --------------  ----- \n",
      " 0   age             32561 non-null  int64 \n",
      " 1   workclass       32561 non-null  object\n",
      " 2   fnlwgt          32561 non-null  int64 \n",
      " 3   education       32561 non-null  object\n",
      " 4   education-num   32561 non-null  int64 \n",
      " 5   marital-status  32561 non-null  object\n",
      " 6   occupation      32561 non-null  object\n",
      " 7   relationship    32561 non-null  object\n",
      " 8   race            32561 non-null  object\n",
      " 9   sex             32561 non-null  object\n",
      " 10  capital-gain    32561 non-null  int64 \n",
      " 11  capital-loss    32561 non-null  int64 \n",
      " 12  hours-per-week  32561 non-null  int64 \n",
      " 13  native-country  32561 non-null  object\n",
      " 14  salary          32561 non-null  object\n",
      "dtypes: int64(6), object(9)\n",
      "memory usage: 3.7+ MB\n"
     ]
    }
   ],
   "source": [
    "import pandas as pd\n",
    "import matplotlib.pyplot as plt\n",
    "\n",
    "# Read data from file\n",
    "\n",
    "df = pd.read_csv('demo_data.csv')\n",
    "df.info()"
   ]
  },
  {
   "cell_type": "code",
   "execution_count": 2,
   "id": "d720b365-653e-4820-985a-277bc472a4b5",
   "metadata": {
    "tags": []
   },
   "outputs": [
    {
     "name": "stdout",
     "output_type": "stream",
     "text": [
      "age               0\n",
      "workclass         0\n",
      "fnlwgt            0\n",
      "education         0\n",
      "education-num     0\n",
      "marital-status    0\n",
      "occupation        0\n",
      "relationship      0\n",
      "race              0\n",
      "sex               0\n",
      "capital-gain      0\n",
      "capital-loss      0\n",
      "hours-per-week    0\n",
      "native-country    0\n",
      "salary            0\n",
      "dtype: int64\n"
     ]
    }
   ],
   "source": [
    "# Check for missing values\n",
    "print(df.isnull().sum())"
   ]
  },
  {
   "cell_type": "code",
   "execution_count": 3,
   "id": "a4e07053-3dd8-49c2-abcd-325a0ffcb9d1",
   "metadata": {
    "tags": []
   },
   "outputs": [
    {
     "name": "stdout",
     "output_type": "stream",
     "text": [
      "<=50K    24720\n",
      ">50K      7841\n",
      "Name: salary, dtype: int64\n"
     ]
    }
   ],
   "source": [
    "# How many of each salary are represented in this dataset? \n",
    "salary_count = df['salary'].value_counts()\n",
    "print(salary_count)"
   ]
  },
  {
   "cell_type": "code",
   "execution_count": 4,
   "id": "53b60e05-9e3f-431a-b152-455b4d7c1e05",
   "metadata": {},
   "outputs": [],
   "source": [
    "# remove rows with \"?\" in the native-country column\n",
    "# df = df[df['native-country'] != '?']\n",
    "# df"
   ]
  },
  {
   "cell_type": "markdown",
   "id": "5131a7cd-67da-43bb-a6a2-62c9cdcd1d38",
   "metadata": {
    "tags": []
   },
   "source": [
    "\n",
    "## Analyse Insights 🕵️"
   ]
  },
  {
   "cell_type": "markdown",
   "id": "439281ed-927c-4b18-892d-907df3a50a81",
   "metadata": {},
   "source": [
    "#### How many of each race are represented in this dataset? This should be a Pandas series with race names as the index labels."
   ]
  },
  {
   "cell_type": "code",
   "execution_count": 5,
   "id": "75b0e2ee-b89f-4b69-b4a6-405793d285b2",
   "metadata": {
    "tags": []
   },
   "outputs": [
    {
     "name": "stdout",
     "output_type": "stream",
     "text": [
      "White                 27816\n",
      "Black                  3124\n",
      "Asian-Pac-Islander     1039\n",
      "Amer-Indian-Eskimo      311\n",
      "Other                   271\n",
      "Name: race, dtype: int64\n"
     ]
    }
   ],
   "source": [
    "race_count = df['race'].value_counts()\n",
    "print(race_count)"
   ]
  },
  {
   "cell_type": "markdown",
   "id": "b99db43c-5214-411e-b049-ca5cf5edfded",
   "metadata": {},
   "source": [
    "#### What is the average age of men?"
   ]
  },
  {
   "cell_type": "code",
   "execution_count": 6,
   "id": "b947be3b-dece-41ae-bc80-fb1b46780e75",
   "metadata": {
    "tags": []
   },
   "outputs": [
    {
     "name": "stdout",
     "output_type": "stream",
     "text": [
      "Average age of men: 39.43354749885268\n"
     ]
    }
   ],
   "source": [
    "# What is the average age of men?\n",
    "\n",
    "average_age_men = df[df['sex'] == 'Male']['age'].mean()\n",
    "\n",
    "print('Average age of men:', average_age_men)"
   ]
  },
  {
   "cell_type": "markdown",
   "id": "b8482a04-d16d-4292-a3da-a23301b2dd63",
   "metadata": {},
   "source": [
    "#### The percentage of people who have a Bachelor's degree"
   ]
  },
  {
   "cell_type": "code",
   "execution_count": 7,
   "id": "8ffe374c-a0d3-4a2f-8b83-1403341fc1d8",
   "metadata": {},
   "outputs": [
    {
     "name": "stdout",
     "output_type": "stream",
     "text": [
      "Percentage of people with Bachelor's degree: 16.4 %\n"
     ]
    }
   ],
   "source": [
    "total_count = len(df['education'])\n",
    "bachelors_count = len(df[df['education'] == 'Bachelors'])\n",
    "percentage_bachelors = round(((bachelors_count / total_count) * 100),1)\n",
    "\n",
    "print('Percentage of people with Bachelor\\'s degree:', percentage_bachelors ,\"%\")"
   ]
  },
  {
   "cell_type": "markdown",
   "id": "baa63d83-342a-4242-9b07-4539fc93ad6f",
   "metadata": {
    "tags": []
   },
   "source": [
    "#### Percentage of people with advanced education (`Bachelors`, `Masters`, or `Doctorate`) make more than 50K?"
   ]
  },
  {
   "cell_type": "code",
   "execution_count": 8,
   "id": "7c534513-6bda-4fa1-823e-26a601c83496",
   "metadata": {},
   "outputs": [
    {
     "name": "stdout",
     "output_type": "stream",
     "text": [
      "Percentage of people with advanced education making more than 50K: 46.535843011613935\n"
     ]
    }
   ],
   "source": [
    "# Filter the data to include only individuals with advanced education\n",
    "advanced_edu = df[df['education'].isin(['Bachelors', 'Masters', 'Doctorate'])]\n",
    "\n",
    "# Calculate the percentage of individuals with advanced education who make more than 50K\n",
    "\n",
    "percentage_advanced_edu_above_50k = (len(advanced_edu[advanced_edu['salary'] == '>50K']) / len(advanced_edu)) * 100\n",
    "\n",
    "print(\"Percentage of people with advanced education making more than 50K:\", percentage_advanced_edu_above_50k)"
   ]
  },
  {
   "cell_type": "markdown",
   "id": "399327be-ffee-4035-87e8-51fc7f6aba8f",
   "metadata": {
    "tags": []
   },
   "source": [
    "#### Percentage of people without advanced education ~(`Bachelors`, `Masters`, or `Doctorate`) and making more than 50K?"
   ]
  },
  {
   "cell_type": "code",
   "execution_count": 9,
   "id": "76876c7b-3a30-4cc1-98e2-223e79880b42",
   "metadata": {},
   "outputs": [
    {
     "name": "stdout",
     "output_type": "stream",
     "text": [
      "Percentage of people with advanced education making more than 50K: 17.3713601914639\n"
     ]
    }
   ],
   "source": [
    "# Filter the data to exclude individuals with advanced education\n",
    "no_advanced_edu = df[~df['education'].isin(['Bachelors', 'Masters', 'Doctorate'])]\n",
    "\n",
    "# Calculate the percentage of individuals without advanced education who make more than 50K\n",
    "percentage_no_advanced_edu_above_50k = (len(no_advanced_edu[no_advanced_edu['salary'] == '>50K']) / len(no_advanced_edu)) * 100\n",
    "\n",
    "print(\"Percentage of people with advanced education making more than 50K:\", percentage_no_advanced_edu_above_50k)"
   ]
  },
  {
   "cell_type": "markdown",
   "id": "3642e629-dc93-45b5-bbd2-c750c10bf683",
   "metadata": {
    "tags": []
   },
   "source": [
    "#### Percentage of people with advanced education (`Bachelors`, `Masters`, or `Doctorate`) make less than 50K?"
   ]
  },
  {
   "cell_type": "code",
   "execution_count": 10,
   "id": "01d2861d-df52-444f-af54-1e83c8e38e44",
   "metadata": {},
   "outputs": [
    {
     "name": "stdout",
     "output_type": "stream",
     "text": [
      "Percentage of people with advanced education making less than 50K: 53.46415698838606\n"
     ]
    }
   ],
   "source": [
    "# What percentage of people with advanced education (`Bachelors`, `Masters`, or `Doctorate`) make less than 50K?\n",
    "\n",
    "# Calculate the percentage of individuals with advanced education who make less than 50K\n",
    "\n",
    "percentage_advanced_edu_below_50k = (len(advanced_edu[advanced_edu['salary'] == '<=50K']) / len(advanced_edu)) * 100\n",
    "\n",
    "print(\"Percentage of people with advanced education making less than 50K:\", percentage_advanced_edu_below_50k)"
   ]
  },
  {
   "cell_type": "markdown",
   "id": "6faed070-9ec9-490a-a4ee-bcb0cc7a551e",
   "metadata": {},
   "source": [
    "#### Percentage of people with no advanced education ~(`Bachelors`, `Masters`, or `Doctorate`) make less than 50K?"
   ]
  },
  {
   "cell_type": "code",
   "execution_count": 11,
   "id": "c7d93b01-5185-42a6-b084-cf4edec92b2d",
   "metadata": {},
   "outputs": [
    {
     "name": "stdout",
     "output_type": "stream",
     "text": [
      "Percentage of people with advanced education making less than 50K: 82.6286398085361\n"
     ]
    }
   ],
   "source": [
    "# What percentage of people with no advanced education (`Bachelors`, `Masters`, or `Doctorate`) make less than 50K?\n",
    "\n",
    "# Calculate the percentage of individuals with no advanced education who make less than 50K\n",
    "\n",
    "percentage_no_advanced_edu_below_50k = (len(no_advanced_edu[no_advanced_edu['salary'] == '<=50K']) / len(no_advanced_edu)) * 100\n",
    "\n",
    "print(\"Percentage of people with advanced education making less than 50K:\", percentage_no_advanced_edu_below_50k)"
   ]
  },
  {
   "cell_type": "markdown",
   "id": "839491cf-5bb1-4c19-8d41-65a7d5700c3e",
   "metadata": {},
   "source": [
    "#### The minimum number of hours a person works per week (hours-per-week feature)"
   ]
  },
  {
   "cell_type": "code",
   "execution_count": 12,
   "id": "9634bb49-ff53-495b-8a7b-03388423f667",
   "metadata": {},
   "outputs": [
    {
     "name": "stdout",
     "output_type": "stream",
     "text": [
      "count    32561.000000\n",
      "mean        40.437456\n",
      "std         12.347429\n",
      "min          1.000000\n",
      "25%         40.000000\n",
      "50%         40.000000\n",
      "75%         45.000000\n",
      "max         99.000000\n",
      "Name: hours-per-week, dtype: float64\n"
     ]
    }
   ],
   "source": [
    "# The describe() method will give more details on the hours-per-week column. This will include the min, we are going to calculate \n",
    "\n",
    "hour_stats = df['hours-per-week'].describe()\n",
    "print(hour_stats)"
   ]
  },
  {
   "cell_type": "code",
   "execution_count": 13,
   "id": "326fec68-d0b8-4e6e-9914-d1ff5c5d2a5e",
   "metadata": {},
   "outputs": [
    {
     "name": "stdout",
     "output_type": "stream",
     "text": [
      "Minimum number of hours per week worked: 1\n"
     ]
    }
   ],
   "source": [
    "# min_work_hours \n",
    "\n",
    "min_work_hours = df['hours-per-week'].min()\n",
    "print('Minimum number of hours per week worked:', min_work_hours)"
   ]
  },
  {
   "cell_type": "markdown",
   "id": "ff9a4fe3-c4e3-4296-a7a6-e97ee47d4f9a",
   "metadata": {},
   "source": [
    "As we can see, the minimum value of 1 is indeed valid and not an error in the dataset. This suggests that there are some individuals who reported working only 1 hour per week. \n",
    "\n",
    "However, this is relatively uncommon, as the majority of individuals work between 40 and 45 hours per week (as shown by the **median** value of 40 and the interquartile range of 40-45)."
   ]
  },
  {
   "cell_type": "markdown",
   "id": "0fa3dce9-fd37-40f9-8a42-8811df570459",
   "metadata": {},
   "source": [
    "#### What percentage of the people who work the minimum number of hours per week have a salary of >50K"
   ]
  },
  {
   "cell_type": "code",
   "execution_count": 14,
   "id": "131cd0a6-4a87-4fe7-b828-fdaa90d0ae32",
   "metadata": {},
   "outputs": [
    {
     "name": "stdout",
     "output_type": "stream",
     "text": [
      "Percentage of people who work the minimum number of hours per week and have a salary of >50K: 10.00%\n"
     ]
    }
   ],
   "source": [
    "num_min_workers = len(df[df['hours-per-week'] == min_work_hours])\n",
    "num_rich_min_workers = len(df[(df['hours-per-week'] == min_work_hours) & (df['salary'] == '>50K')])\n",
    "\n",
    "rich_percentage = (num_rich_min_workers / num_min_workers) * 100\n",
    "\n",
    "print(f\"Percentage of people who work the minimum number of hours per week and have a salary of >50K: {rich_percentage:.2f}%\")"
   ]
  },
  {
   "cell_type": "markdown",
   "id": "a219498d-9792-415f-8da9-1a4b000d0c85",
   "metadata": {},
   "source": [
    "#### Country that has the highest percentage of people that earn >50K"
   ]
  },
  {
   "cell_type": "code",
   "execution_count": 15,
   "id": "afd1f325-70d5-41af-8a60-d87de09c14da",
   "metadata": {},
   "outputs": [
    {
     "name": "stdout",
     "output_type": "stream",
     "text": [
      "The country with the highest percentage of people earning more than 50K is: Iran with a percentage of 41.86 %\n"
     ]
    }
   ],
   "source": [
    "# Select rows where salary is greater than 50K\n",
    "high_earners = df[df['salary'] == '>50K']\n",
    "\n",
    "# Group by country and count number of people in each group\n",
    "grouped = high_earners.groupby('native-country')['native-country'].count()\n",
    "\n",
    "# Count total number of people in each country\n",
    "total = df.groupby('native-country')['native-country'].count()\n",
    "\n",
    "# Calculate percentage of people who earn more than 50K in each country\n",
    "percentages = (grouped / total) * 100\n",
    "\n",
    "# Find country with highest percentage using panda method idxmax()\n",
    "highest_earning_country = percentages.idxmax()\n",
    "highest_percentage = round(percentages[highest_earning_country], 2)\n",
    "\n",
    "print(\"The country with the highest percentage of people earning more than 50K is:\", highest_earning_country, \"with a percentage of\", highest_percentage, \"%\")"
   ]
  },
  {
   "cell_type": "markdown",
   "id": "50cb0c44-4c5f-4a77-a7c1-3587207cdc85",
   "metadata": {},
   "source": [
    "#### Print percentage of people who earn more than 50K in each country"
   ]
  },
  {
   "cell_type": "code",
   "execution_count": 16,
   "id": "74f7acbe-0a39-4e74-aac8-8299d313e710",
   "metadata": {
    "tags": []
   },
   "outputs": [
    {
     "name": "stdout",
     "output_type": "stream",
     "text": [
      "?: 25.04%\n",
      "Cambodia: 36.84%\n",
      "Canada: 32.23%\n",
      "China: 26.67%\n",
      "Columbia: 3.39%\n",
      "Cuba: 26.32%\n",
      "Dominican-Republic: 2.86%\n",
      "Ecuador: 14.29%\n",
      "El-Salvador: 8.49%\n",
      "England: 33.33%\n",
      "France: 41.38%\n",
      "Germany: 32.12%\n",
      "Greece: 27.59%\n",
      "Guatemala: 4.69%\n",
      "Haiti: 9.09%\n",
      "Holand-Netherlands: nan%\n",
      "Honduras: 7.69%\n",
      "Hong: 30.00%\n",
      "Hungary: 23.08%\n",
      "India: 40.00%\n",
      "Iran: 41.86%\n",
      "Ireland: 20.83%\n",
      "Italy: 34.25%\n",
      "Jamaica: 12.35%\n",
      "Japan: 38.71%\n",
      "Laos: 11.11%\n",
      "Mexico: 5.13%\n",
      "Nicaragua: 5.88%\n",
      "Outlying-US(Guam-USVI-etc): nan%\n",
      "Peru: 6.45%\n",
      "Philippines: 30.81%\n",
      "Poland: 20.00%\n",
      "Portugal: 10.81%\n",
      "Puerto-Rico: 10.53%\n",
      "Scotland: 25.00%\n",
      "South: 20.00%\n",
      "Taiwan: 39.22%\n",
      "Thailand: 16.67%\n",
      "Trinadad&Tobago: 10.53%\n",
      "United-States: 24.58%\n",
      "Vietnam: 7.46%\n",
      "Yugoslavia: 37.50%\n"
     ]
    }
   ],
   "source": [
    "for country, percentage in percentages.items():\n",
    "    print(f\"{country}: {percentage:.2f}%\")"
   ]
  },
  {
   "cell_type": "code",
   "execution_count": 17,
   "id": "d9f3107e-4b8f-4261-bd6f-3da8208dde8a",
   "metadata": {},
   "outputs": [
    {
     "data": {
      "image/png": "[encoded data removed]",
      "text/plain": [
       "<Figure size 1000x600 with 1 Axes>"
      ]
     },
     "metadata": {},
     "output_type": "display_data"
    }
   ],
   "source": [
    "# Sort the percentages in descending order\n",
    "percentages_sorted = percentages.sort_values(ascending=False)\n",
    "\n",
    "# Find country with highest percentage\n",
    "highest_earning_country = percentages_sorted.index[0]\n",
    "highest_percentage = round(percentages_sorted.iloc[0], 2)\n",
    "\n",
    "# Plotting the data\n",
    "plt.figure(figsize=(10, 6))\n",
    "percentages_sorted.plot(kind='bar')\n",
    "plt.xlabel('Country')\n",
    "plt.ylabel('Percentage')\n",
    "plt.title('Percentage of People Earning >50K by Country (Descending Order)')\n",
    "plt.xticks(rotation=45)\n",
    "plt.tight_layout()\n",
    "plt.show()"
   ]
  },
  {
   "cell_type": "markdown",
   "id": "6392ac9b-fc28-4b8c-8540-ca0c1219e891",
   "metadata": {},
   "source": [
    "#### Identify the most popular occupation for those who earn >50K in India."
   ]
  },
  {
   "cell_type": "code",
   "execution_count": 67,
   "id": "3a66cf87-60f8-4acb-87ff-72d0967cf7f1",
   "metadata": {},
   "outputs": [
    {
     "name": "stdout",
     "output_type": "stream",
     "text": [
      "The most popular occupation for those who earn >50K in India is: Prof-specialty\n"
     ]
    }
   ],
   "source": [
    "# Select rows where salary is greater than 50K and native country is India\n",
    "high_earning_indians = df[(df['salary'] == '>50K') & (df['native-country'] == 'India')]\n",
    "\n",
    "# Group by occupation and count number of people in each group\n",
    "grouped = high_earning_indians['occupation'].value_counts()\n",
    "\n",
    "# Find the occupation with the highest count\n",
    "most_popular_occupation = grouped.idxmax()\n",
    "\n",
    "print(\"The most popular occupation for those who earn >50K in India is:\", most_popular_occupation)"
   ]
  }
 ],
 "metadata": {
  "kernelspec": {
   "display_name": "Python 3 (ipykernel)",
   "language": "python",
   "name": "python3"
  },
  "language_info": {
   "codemirror_mode": {
    "name": "ipython",
    "version": 3
   },
   "file_extension": ".py",
   "mimetype": "text/x-python",
   "name": "python",
   "nbconvert_exporter": "python",
   "pygments_lexer": "ipython3",
   "version": "3.9.13"
  }
 },
 "nbformat": 4,
 "nbformat_minor": 5
}
