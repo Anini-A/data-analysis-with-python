{
 "cells": [
  {
   "cell_type": "markdown",
   "id": "810195ec-598a-4f54-a7a3-4aea768ba753",
   "metadata": {
    "tags": []
   },
   "source": [
    "# **Demographic Data Anlyser 👥**\n",
    "![purple-divider](https://user-images.githubusercontent.com/7065401/52071927-c1cd7100-2562-11e9-908a-dde91ba14e59.png)"
   ]
  },
  {
   "cell_type": "markdown",
   "metadata": {},
   "source": [
    "## 1- Overview 🔎\n",
    "![green-divider](https://user-images.githubusercontent.com/7065401/52071924-c003ad80-2562-11e9-8297-1c6595f8a7ff.png)\n",
    "\n",
    "**Introduction:** <br>\n",
    "Demographic trends provide valuable insights into societal structures. This project aims to analyze demographic data extracted from the 1994 Census database using Pandas.\n",
    "\n",
    "[freecodecamp | data-analysis-with-python-projects | demographic-data-analyzer](https://www.freecodecamp.org/learn/data-analysis-with-python/data-analysis-with-python-projects/demographic-data-analyzer)\n",
    "\n",
    "**Problem Statement:** <br>\n",
    "- Understand the representation of different races in the dataset.\n",
    "- Determine the average age of men.\n",
    "- Analyze the percentage of individuals with a Bachelor's degree.\n",
    "- Investigate the income distribution based on education levels.\n",
    "- Identify the minimum weekly working hours and its relation to income.\n",
    "- Explore countries with the highest percentage of individuals earning >50K.\n",
    "- Determine the most popular occupation for those earning >50K in India.\n",
    "\n",
    "**Data Source:** <br>\n",
    "The dataset is sourced from the UCI Machine Learning Repository (Dua, D. and Graff, C., 2019). It comprises demographic attributes such as age, education, occupation, and salary.\n",
    "\n",
    "Here is a sample of what the data:\n",
    "\n",
    "|    |   age | workclass        |   fnlwgt | education   |   education-num | marital-status     | occupation        | relationship   | race   | sex    |   capital-gain |   capital-loss |   hours-per-week | native-country   | salary   |\n",
    "|---:|------:|:-----------------|---------:|:------------|----------------:|:-------------------|:------------------|:---------------|:-------|:-------|---------------:|---------------:|-----------------:|:-----------------|:---------|\n",
    "|  0 |    39 | State-gov        |    77516 | Bachelors   |              13 | Never-married      | Adm-clerical      | Not-in-family  | White  | Male   |           2174 |              0 |               40 | United-States    | <=50K    |\n",
    "|  1 |    50 | Self-emp-not-inc |    83311 | Bachelors   |              13 | Married-civ-spouse | Exec-managerial   | Husband        | White  | Male   |              0 |              0 |               13 | United-States    | <=50K    |\n",
    "|  2 |    38 | Private          |   215646 | HS-grad     |               9 | Divorced           | Handlers-cleaners | Not-in-family  | White  | Male   |              0 |              0 |               40 | United-States    | <=50K    |\n",
    "|  3 |    53 | Private          |   234721 | 11th        |               7 | Married-civ-spouse | Handlers-cleaners | Husband        | Black  | Male   |              0 |              0 |               40 | United-States    | <=50K    |\n",
    "|  4 |    28 | Private          |   338409 | Bachelors   |              13 | Married-civ-spouse | Prof-specialty    | Wife           | Black  | Female |              0 |              0 |               40 | Cuba             | <=50K    |\n",
    "\n",
    "**Data Exploration:** <br>\n",
    "The dataset includes various features like age, workclass, education, marital status, and more. Each row represents an individual, providing a rich source for demographic analysis."
   ]
  },
  {
   "cell_type": "markdown",
   "id": "148dcdf5-b711-4157-a0d6-ef8bc3651c31",
   "metadata": {},
   "source": [
    "## 2- Preparation 📖\n",
    "![green-divider](https://user-images.githubusercontent.com/7065401/52071924-c003ad80-2562-11e9-8297-1c6595f8a7ff.png)\n",
    "- data collection\n",
    "- data cleaning\n",
    "- data transformation"
   ]
  },
  {
   "cell_type": "code",
   "execution_count": 204,
   "metadata": {},
   "outputs": [],
   "source": [
    "# Importing libraries\n",
    "\n",
    "import pandas as pd\n",
    "import numpy as np\n",
    "import matplotlib.pyplot as plt"
   ]
  },
  {
   "cell_type": "code",
   "execution_count": 205,
   "id": "193f7bc9-3099-4952-ac51-f5464cfce5ad",
   "metadata": {
    "tags": []
   },
   "outputs": [
    {
     "name": "stdout",
     "output_type": "stream",
     "text": [
      "<class 'pandas.core.frame.DataFrame'>\n",
      "RangeIndex: 32561 entries, 0 to 32560\n",
      "Data columns (total 15 columns):\n",
      " #   Column          Non-Null Count  Dtype \n",
      "---  ------          --------------  ----- \n",
      " 0   age             32561 non-null  int64 \n",
      " 1   workclass       32561 non-null  object\n",
      " 2   fnlwgt          32561 non-null  int64 \n",
      " 3   education       32561 non-null  object\n",
      " 4   education-num   32561 non-null  int64 \n",
      " 5   marital-status  32561 non-null  object\n",
      " 6   occupation      32561 non-null  object\n",
      " 7   relationship    32561 non-null  object\n",
      " 8   race            32561 non-null  object\n",
      " 9   sex             32561 non-null  object\n",
      " 10  capital-gain    32561 non-null  int64 \n",
      " 11  capital-loss    32561 non-null  int64 \n",
      " 12  hours-per-week  32561 non-null  int64 \n",
      " 13  native-country  32561 non-null  object\n",
      " 14  salary          32561 non-null  object\n",
      "dtypes: int64(6), object(9)\n",
      "memory usage: 3.7+ MB\n"
     ]
    }
   ],
   "source": [
    "# Read data from csv file\n",
    "\n",
    "df = pd.read_csv('demo_data.csv')\n",
    "df.info()"
   ]
  },
  {
   "cell_type": "code",
   "execution_count": 206,
   "metadata": {},
   "outputs": [
    {
     "data": {
      "text/html": [
       "<div>\n",
       "<style scoped>\n",
       "    .dataframe tbody tr th:only-of-type {\n",
       "        vertical-align: middle;\n",
       "    }\n",
       "\n",
       "    .dataframe tbody tr th {\n",
       "        vertical-align: top;\n",
       "    }\n",
       "\n",
       "    .dataframe thead th {\n",
       "        text-align: right;\n",
       "    }\n",
       "</style>\n",
       "<table border=\"1\" class=\"dataframe\">\n",
       "  <thead>\n",
       "    <tr style=\"text-align: right;\">\n",
       "      <th></th>\n",
       "      <th>age</th>\n",
       "      <th>workclass</th>\n",
       "      <th>fnlwgt</th>\n",
       "      <th>education</th>\n",
       "      <th>education-num</th>\n",
       "      <th>marital-status</th>\n",
       "      <th>occupation</th>\n",
       "      <th>relationship</th>\n",
       "      <th>race</th>\n",
       "      <th>sex</th>\n",
       "      <th>capital-gain</th>\n",
       "      <th>capital-loss</th>\n",
       "      <th>hours-per-week</th>\n",
       "      <th>native-country</th>\n",
       "      <th>salary</th>\n",
       "    </tr>\n",
       "  </thead>\n",
       "  <tbody>\n",
       "    <tr>\n",
       "      <th>0</th>\n",
       "      <td>39</td>\n",
       "      <td>State-gov</td>\n",
       "      <td>77516</td>\n",
       "      <td>Bachelors</td>\n",
       "      <td>13</td>\n",
       "      <td>Never-married</td>\n",
       "      <td>Adm-clerical</td>\n",
       "      <td>Not-in-family</td>\n",
       "      <td>White</td>\n",
       "      <td>Male</td>\n",
       "      <td>2174</td>\n",
       "      <td>0</td>\n",
       "      <td>40</td>\n",
       "      <td>United-States</td>\n",
       "      <td>&lt;=50K</td>\n",
       "    </tr>\n",
       "    <tr>\n",
       "      <th>1</th>\n",
       "      <td>50</td>\n",
       "      <td>Self-emp-not-inc</td>\n",
       "      <td>83311</td>\n",
       "      <td>Bachelors</td>\n",
       "      <td>13</td>\n",
       "      <td>Married-civ-spouse</td>\n",
       "      <td>Exec-managerial</td>\n",
       "      <td>Husband</td>\n",
       "      <td>White</td>\n",
       "      <td>Male</td>\n",
       "      <td>0</td>\n",
       "      <td>0</td>\n",
       "      <td>13</td>\n",
       "      <td>United-States</td>\n",
       "      <td>&lt;=50K</td>\n",
       "    </tr>\n",
       "    <tr>\n",
       "      <th>2</th>\n",
       "      <td>38</td>\n",
       "      <td>Private</td>\n",
       "      <td>215646</td>\n",
       "      <td>HS-grad</td>\n",
       "      <td>9</td>\n",
       "      <td>Divorced</td>\n",
       "      <td>Handlers-cleaners</td>\n",
       "      <td>Not-in-family</td>\n",
       "      <td>White</td>\n",
       "      <td>Male</td>\n",
       "      <td>0</td>\n",
       "      <td>0</td>\n",
       "      <td>40</td>\n",
       "      <td>United-States</td>\n",
       "      <td>&lt;=50K</td>\n",
       "    </tr>\n",
       "    <tr>\n",
       "      <th>3</th>\n",
       "      <td>53</td>\n",
       "      <td>Private</td>\n",
       "      <td>234721</td>\n",
       "      <td>11th</td>\n",
       "      <td>7</td>\n",
       "      <td>Married-civ-spouse</td>\n",
       "      <td>Handlers-cleaners</td>\n",
       "      <td>Husband</td>\n",
       "      <td>Black</td>\n",
       "      <td>Male</td>\n",
       "      <td>0</td>\n",
       "      <td>0</td>\n",
       "      <td>40</td>\n",
       "      <td>United-States</td>\n",
       "      <td>&lt;=50K</td>\n",
       "    </tr>\n",
       "    <tr>\n",
       "      <th>4</th>\n",
       "      <td>28</td>\n",
       "      <td>Private</td>\n",
       "      <td>338409</td>\n",
       "      <td>Bachelors</td>\n",
       "      <td>13</td>\n",
       "      <td>Married-civ-spouse</td>\n",
       "      <td>Prof-specialty</td>\n",
       "      <td>Wife</td>\n",
       "      <td>Black</td>\n",
       "      <td>Female</td>\n",
       "      <td>0</td>\n",
       "      <td>0</td>\n",
       "      <td>40</td>\n",
       "      <td>Cuba</td>\n",
       "      <td>&lt;=50K</td>\n",
       "    </tr>\n",
       "  </tbody>\n",
       "</table>\n",
       "</div>"
      ],
      "text/plain": [
       "   age         workclass  fnlwgt  education  education-num  \\\n",
       "0   39         State-gov   77516  Bachelors             13   \n",
       "1   50  Self-emp-not-inc   83311  Bachelors             13   \n",
       "2   38           Private  215646    HS-grad              9   \n",
       "3   53           Private  234721       11th              7   \n",
       "4   28           Private  338409  Bachelors             13   \n",
       "\n",
       "       marital-status         occupation   relationship   race     sex  \\\n",
       "0       Never-married       Adm-clerical  Not-in-family  White    Male   \n",
       "1  Married-civ-spouse    Exec-managerial        Husband  White    Male   \n",
       "2            Divorced  Handlers-cleaners  Not-in-family  White    Male   \n",
       "3  Married-civ-spouse  Handlers-cleaners        Husband  Black    Male   \n",
       "4  Married-civ-spouse     Prof-specialty           Wife  Black  Female   \n",
       "\n",
       "   capital-gain  capital-loss  hours-per-week native-country salary  \n",
       "0          2174             0              40  United-States  <=50K  \n",
       "1             0             0              13  United-States  <=50K  \n",
       "2             0             0              40  United-States  <=50K  \n",
       "3             0             0              40  United-States  <=50K  \n",
       "4             0             0              40           Cuba  <=50K  "
      ]
     },
     "execution_count": 206,
     "metadata": {},
     "output_type": "execute_result"
    }
   ],
   "source": [
    "df.head()"
   ]
  },
  {
   "cell_type": "code",
   "execution_count": 207,
   "metadata": {},
   "outputs": [
    {
     "data": {
      "text/html": [
       "<div>\n",
       "<style scoped>\n",
       "    .dataframe tbody tr th:only-of-type {\n",
       "        vertical-align: middle;\n",
       "    }\n",
       "\n",
       "    .dataframe tbody tr th {\n",
       "        vertical-align: top;\n",
       "    }\n",
       "\n",
       "    .dataframe thead th {\n",
       "        text-align: right;\n",
       "    }\n",
       "</style>\n",
       "<table border=\"1\" class=\"dataframe\">\n",
       "  <thead>\n",
       "    <tr style=\"text-align: right;\">\n",
       "      <th></th>\n",
       "      <th>age</th>\n",
       "      <th>workclass</th>\n",
       "      <th>fnlwgt</th>\n",
       "      <th>education</th>\n",
       "      <th>education-num</th>\n",
       "      <th>marital-status</th>\n",
       "      <th>occupation</th>\n",
       "      <th>relationship</th>\n",
       "      <th>race</th>\n",
       "      <th>sex</th>\n",
       "      <th>capital-gain</th>\n",
       "      <th>capital-loss</th>\n",
       "      <th>hours-per-week</th>\n",
       "      <th>native-country</th>\n",
       "      <th>salary</th>\n",
       "    </tr>\n",
       "  </thead>\n",
       "  <tbody>\n",
       "    <tr>\n",
       "      <th>0</th>\n",
       "      <td>39</td>\n",
       "      <td>State-gov</td>\n",
       "      <td>77516</td>\n",
       "      <td>Bachelors</td>\n",
       "      <td>13</td>\n",
       "      <td>Never-married</td>\n",
       "      <td>Adm-clerical</td>\n",
       "      <td>Not-in-family</td>\n",
       "      <td>White</td>\n",
       "      <td>Male</td>\n",
       "      <td>2174</td>\n",
       "      <td>0</td>\n",
       "      <td>40</td>\n",
       "      <td>United-States</td>\n",
       "      <td>&lt;=50K</td>\n",
       "    </tr>\n",
       "    <tr>\n",
       "      <th>1</th>\n",
       "      <td>50</td>\n",
       "      <td>Self-emp-not-inc</td>\n",
       "      <td>83311</td>\n",
       "      <td>Bachelors</td>\n",
       "      <td>13</td>\n",
       "      <td>Married-civ-spouse</td>\n",
       "      <td>Exec-managerial</td>\n",
       "      <td>Husband</td>\n",
       "      <td>White</td>\n",
       "      <td>Male</td>\n",
       "      <td>0</td>\n",
       "      <td>0</td>\n",
       "      <td>13</td>\n",
       "      <td>United-States</td>\n",
       "      <td>&lt;=50K</td>\n",
       "    </tr>\n",
       "    <tr>\n",
       "      <th>2</th>\n",
       "      <td>38</td>\n",
       "      <td>Private</td>\n",
       "      <td>215646</td>\n",
       "      <td>HS-grad</td>\n",
       "      <td>9</td>\n",
       "      <td>Divorced</td>\n",
       "      <td>Handlers-cleaners</td>\n",
       "      <td>Not-in-family</td>\n",
       "      <td>White</td>\n",
       "      <td>Male</td>\n",
       "      <td>0</td>\n",
       "      <td>0</td>\n",
       "      <td>40</td>\n",
       "      <td>United-States</td>\n",
       "      <td>&lt;=50K</td>\n",
       "    </tr>\n",
       "    <tr>\n",
       "      <th>3</th>\n",
       "      <td>53</td>\n",
       "      <td>Private</td>\n",
       "      <td>234721</td>\n",
       "      <td>11th</td>\n",
       "      <td>7</td>\n",
       "      <td>Married-civ-spouse</td>\n",
       "      <td>Handlers-cleaners</td>\n",
       "      <td>Husband</td>\n",
       "      <td>Black</td>\n",
       "      <td>Male</td>\n",
       "      <td>0</td>\n",
       "      <td>0</td>\n",
       "      <td>40</td>\n",
       "      <td>United-States</td>\n",
       "      <td>&lt;=50K</td>\n",
       "    </tr>\n",
       "    <tr>\n",
       "      <th>4</th>\n",
       "      <td>28</td>\n",
       "      <td>Private</td>\n",
       "      <td>338409</td>\n",
       "      <td>Bachelors</td>\n",
       "      <td>13</td>\n",
       "      <td>Married-civ-spouse</td>\n",
       "      <td>Prof-specialty</td>\n",
       "      <td>Wife</td>\n",
       "      <td>Black</td>\n",
       "      <td>Female</td>\n",
       "      <td>0</td>\n",
       "      <td>0</td>\n",
       "      <td>40</td>\n",
       "      <td>Cuba</td>\n",
       "      <td>&lt;=50K</td>\n",
       "    </tr>\n",
       "  </tbody>\n",
       "</table>\n",
       "</div>"
      ],
      "text/plain": [
       "   age         workclass  fnlwgt  education  education-num  \\\n",
       "0   39         State-gov   77516  Bachelors             13   \n",
       "1   50  Self-emp-not-inc   83311  Bachelors             13   \n",
       "2   38           Private  215646    HS-grad              9   \n",
       "3   53           Private  234721       11th              7   \n",
       "4   28           Private  338409  Bachelors             13   \n",
       "\n",
       "       marital-status         occupation   relationship   race     sex  \\\n",
       "0       Never-married       Adm-clerical  Not-in-family  White    Male   \n",
       "1  Married-civ-spouse    Exec-managerial        Husband  White    Male   \n",
       "2            Divorced  Handlers-cleaners  Not-in-family  White    Male   \n",
       "3  Married-civ-spouse  Handlers-cleaners        Husband  Black    Male   \n",
       "4  Married-civ-spouse     Prof-specialty           Wife  Black  Female   \n",
       "\n",
       "   capital-gain  capital-loss  hours-per-week native-country salary  \n",
       "0          2174             0              40  United-States  <=50K  \n",
       "1             0             0              13  United-States  <=50K  \n",
       "2             0             0              40  United-States  <=50K  \n",
       "3             0             0              40  United-States  <=50K  \n",
       "4             0             0              40           Cuba  <=50K  "
      ]
     },
     "execution_count": 207,
     "metadata": {},
     "output_type": "execute_result"
    }
   ],
   "source": [
    "# no null values but we have some '?' values in columns(workclass, occupation and native-country) \n",
    "df.replace('?', np.nan, inplace = True) # replace '?' with NaN\n",
    "df.head()"
   ]
  },
  {
   "cell_type": "code",
   "execution_count": 208,
   "metadata": {},
   "outputs": [
    {
     "data": {
      "text/plain": [
       "age                  0\n",
       "workclass         1836\n",
       "fnlwgt               0\n",
       "education            0\n",
       "education-num        0\n",
       "marital-status       0\n",
       "occupation        1843\n",
       "relationship         0\n",
       "race                 0\n",
       "sex                  0\n",
       "capital-gain         0\n",
       "capital-loss         0\n",
       "hours-per-week       0\n",
       "native-country     583\n",
       "salary               0\n",
       "dtype: int64"
      ]
     },
     "execution_count": 208,
     "metadata": {},
     "output_type": "execute_result"
    }
   ],
   "source": [
    "df.isnull().sum() #  of null values present in each columns."
   ]
  },
  {
   "cell_type": "markdown",
   "metadata": {},
   "source": [
    "workclass = 1836 missing\n",
    "\n",
    "occupation = 1843 missing\n",
    "\n",
    "native.country = 583 missing\n",
    "\n",
    "Is seems where value occupation is missing, workclass is missing as well because their missings value is pretty close,\n",
    "\n",
    "Decided to drop NaN and duplucate rows"
   ]
  },
  {
   "cell_type": "code",
   "execution_count": 209,
   "metadata": {},
   "outputs": [],
   "source": [
    "df.dropna(inplace=True)\n",
    "df.drop_duplicates(inplace=True)"
   ]
  },
  {
   "cell_type": "code",
   "execution_count": 210,
   "metadata": {},
   "outputs": [
    {
     "data": {
      "text/plain": [
       "age               0\n",
       "workclass         0\n",
       "fnlwgt            0\n",
       "education         0\n",
       "education-num     0\n",
       "marital-status    0\n",
       "occupation        0\n",
       "relationship      0\n",
       "race              0\n",
       "sex               0\n",
       "capital-gain      0\n",
       "capital-loss      0\n",
       "hours-per-week    0\n",
       "native-country    0\n",
       "salary            0\n",
       "dtype: int64"
      ]
     },
     "execution_count": 210,
     "metadata": {},
     "output_type": "execute_result"
    }
   ],
   "source": [
    "df.isnull().sum() # count of numbers of of null values present in each columns."
   ]
  },
  {
   "cell_type": "markdown",
   "id": "5131a7cd-67da-43bb-a6a2-62c9cdcd1d38",
   "metadata": {
    "tags": []
   },
   "source": [
    "## 3- Data Analysis 🕵️\n",
    "![green-divider](https://user-images.githubusercontent.com/7065401/52071924-c003ad80-2562-11e9-8297-1c6595f8a7ff.png)"
   ]
  },
  {
   "cell_type": "markdown",
   "metadata": {},
   "source": [
    "#### How many of each salary are represented in this dataset? "
   ]
  },
  {
   "cell_type": "code",
   "execution_count": 211,
   "metadata": {},
   "outputs": [
    {
     "data": {
      "image/png": "[encoded data removed]",
      "text/plain": [
       "<Figure size 800x800 with 1 Axes>"
      ]
     },
     "metadata": {},
     "output_type": "display_data"
    }
   ],
   "source": [
    "salary_count = df['salary'].value_counts()\n",
    "\n",
    "# Plotting the pie chart\n",
    "labels = salary_count.index\n",
    "sizes = salary_count.values\n",
    "\n",
    "# Plotting the pie chart\n",
    "plt.figure(figsize=(8, 8))\n",
    "plt.pie(sizes, labels=labels, autopct='%1.1f%%', startangle=90, colors=['lightcoral', 'lightskyblue'])\n",
    "plt.title('Distribution of Salary')\n",
    "plt.show()"
   ]
  },
  {
   "cell_type": "markdown",
   "id": "439281ed-927c-4b18-892d-907df3a50a81",
   "metadata": {},
   "source": [
    "#### How many of each race are represented in this dataset? This should be a Pandas series with race names as the index labels."
   ]
  },
  {
   "cell_type": "code",
   "execution_count": 212,
   "id": "75b0e2ee-b89f-4b69-b4a6-405793d285b2",
   "metadata": {
    "tags": []
   },
   "outputs": [
    {
     "name": "stdout",
     "output_type": "stream",
     "text": [
      "race\n",
      "White                 25912\n",
      "Black                  2816\n",
      "Asian-Pac-Islander      894\n",
      "Amer-Indian-Eskimo      286\n",
      "Other                   231\n",
      "Name: count, dtype: int64\n"
     ]
    },
    {
     "data": {
      "image/png": "[encoded data removed]",
      "text/plain": [
       "<Figure size 1000x600 with 1 Axes>"
      ]
     },
     "metadata": {},
     "output_type": "display_data"
    }
   ],
   "source": [
    "race_count = df['race'].value_counts()\n",
    "print(race_count)\n",
    "\n",
    "# Plotting the bar chart\n",
    "plt.figure(figsize=(10, 6))\n",
    "ax = race_count.plot(kind='bar', color='skyblue')\n",
    "plt.title('Race Distribution in the Dataset')\n",
    "plt.xlabel('Race')\n",
    "plt.ylabel('Count')\n",
    "\n",
    "# Display count on top of each bar\n",
    "for p in ax.patches:\n",
    "    ax.annotate(str(p.get_height()), (p.get_x() + p.get_width() / 2., p.get_height()),\n",
    "                ha='center', va='center', xytext=(0, 10), textcoords='offset points')\n",
    "\n",
    "plt.xticks(rotation=45, ha='right')  # Rotate x-axis labels for better readability\n",
    "plt.show()"
   ]
  },
  {
   "cell_type": "markdown",
   "id": "b99db43c-5214-411e-b049-ca5cf5edfded",
   "metadata": {},
   "source": [
    "#### What is the average age of men?"
   ]
  },
  {
   "cell_type": "code",
   "execution_count": 213,
   "id": "b947be3b-dece-41ae-bc80-fb1b46780e75",
   "metadata": {
    "tags": []
   },
   "outputs": [
    {
     "name": "stdout",
     "output_type": "stream",
     "text": [
      "Average age of men: 39\n"
     ]
    }
   ],
   "source": [
    "# What is the average age of men?\n",
    "\n",
    "average_age_men = round((df[df['sex'] == 'Male']['age'].mean()))\n",
    "print('Average age of men:', average_age_men)"
   ]
  },
  {
   "cell_type": "markdown",
   "id": "b8482a04-d16d-4292-a3da-a23301b2dd63",
   "metadata": {},
   "source": [
    "#### The percentage of people who have a Bachelor's degree"
   ]
  },
  {
   "cell_type": "code",
   "execution_count": 214,
   "id": "8ffe374c-a0d3-4a2f-8b83-1403341fc1d8",
   "metadata": {},
   "outputs": [
    {
     "name": "stdout",
     "output_type": "stream",
     "text": [
      "Percentage of people with Bachelor's degree: 16.73 %\n"
     ]
    }
   ],
   "source": [
    "total_count = len(df['education'])\n",
    "bachelors_count = len(df[df['education'] == 'Bachelors'])\n",
    "percentage_bachelors = round(((bachelors_count / total_count) * 100),2)\n",
    "\n",
    "print('Percentage of people with Bachelor\\'s degree:', percentage_bachelors ,\"%\")"
   ]
  },
  {
   "cell_type": "markdown",
   "id": "baa63d83-342a-4242-9b07-4539fc93ad6f",
   "metadata": {
    "tags": []
   },
   "source": [
    "#### Percentage of people with advanced education (`Bachelors`, `Masters`, or `Doctorate`) make more than 50K?"
   ]
  },
  {
   "cell_type": "code",
   "execution_count": 215,
   "id": "7c534513-6bda-4fa1-823e-26a601c83496",
   "metadata": {},
   "outputs": [
    {
     "name": "stdout",
     "output_type": "stream",
     "text": [
      "Percentage of people with advanced education making more than 50K: 47.2 %\n"
     ]
    }
   ],
   "source": [
    "# Filter the data to include only individuals with advanced education\n",
    "advanced_edu = df[df['education'].isin(['Bachelors', 'Masters', 'Doctorate'])]\n",
    "\n",
    "# Calculate the percentage of individuals with advanced education who make more than 50K\n",
    "\n",
    "percentage_advanced_edu_above_50k = round((len(advanced_edu[advanced_edu['salary'] == '>50K']) / len(advanced_edu) * 100),2)\n",
    "print(\"Percentage of people with advanced education making more than 50K:\", percentage_advanced_edu_above_50k,\"%\")"
   ]
  },
  {
   "cell_type": "markdown",
   "id": "399327be-ffee-4035-87e8-51fc7f6aba8f",
   "metadata": {
    "tags": []
   },
   "source": [
    "#### Percentage of people without advanced education ~(`Bachelors`, `Masters`, or `Doctorate`) and making more than 50K?"
   ]
  },
  {
   "cell_type": "code",
   "execution_count": 216,
   "id": "76876c7b-3a30-4cc1-98e2-223e79880b42",
   "metadata": {},
   "outputs": [
    {
     "name": "stdout",
     "output_type": "stream",
     "text": [
      "Percentage of people without advanced education who make more than 50K: 18.11 %\n"
     ]
    }
   ],
   "source": [
    "# Filter the data to exclude individuals with advanced education\n",
    "no_advanced_edu = df[~df['education'].isin(['Bachelors', 'Masters', 'Doctorate'])]\n",
    "\n",
    "# Calculate the percentage of individuals without advanced education who make more than 50K\n",
    "percentage_no_advanced_edu_above_50k = round(((len(no_advanced_edu[no_advanced_edu['salary'] == '>50K']) / len(no_advanced_edu)) * 100),2)\n",
    "print(\"Percentage of people without advanced education who make more than 50K:\", percentage_no_advanced_edu_above_50k,\"%\")"
   ]
  },
  {
   "cell_type": "markdown",
   "id": "3642e629-dc93-45b5-bbd2-c750c10bf683",
   "metadata": {
    "tags": []
   },
   "source": [
    "#### Percentage of people with advanced education (`Bachelors`, `Masters`, or `Doctorate`) make less than 50K?"
   ]
  },
  {
   "cell_type": "code",
   "execution_count": 217,
   "id": "01d2861d-df52-444f-af54-1e83c8e38e44",
   "metadata": {},
   "outputs": [
    {
     "name": "stdout",
     "output_type": "stream",
     "text": [
      "Percentage of people with advanced education making less than 50K: 52.8 %\n"
     ]
    }
   ],
   "source": [
    "# What percentage of people with advanced education (`Bachelors`, `Masters`, or `Doctorate`) make less than 50K?\n",
    "\n",
    "# Calculate the percentage of individuals with advanced education who make less than 50K\n",
    "\n",
    "percentage_advanced_edu_below_50k = round(((len(advanced_edu[advanced_edu['salary'] == '<=50K']) / len(advanced_edu)) * 100),2)\n",
    "print(\"Percentage of people with advanced education making less than 50K:\", percentage_advanced_edu_below_50k,\"%\")"
   ]
  },
  {
   "cell_type": "markdown",
   "id": "6faed070-9ec9-490a-a4ee-bcb0cc7a551e",
   "metadata": {},
   "source": [
    "#### Percentage of people with no advanced education ~(`Bachelors`, `Masters`, or `Doctorate`) make less than 50K?"
   ]
  },
  {
   "cell_type": "code",
   "execution_count": 218,
   "id": "c7d93b01-5185-42a6-b084-cf4edec92b2d",
   "metadata": {},
   "outputs": [
    {
     "name": "stdout",
     "output_type": "stream",
     "text": [
      "Percentage of people without advanced education making less than 50K: 81.89 %\n"
     ]
    }
   ],
   "source": [
    "# What percentage of people with no advanced education (`Bachelors`, `Masters`, or `Doctorate`) make less than 50K?\n",
    "\n",
    "# Calculate the percentage of individuals with no advanced education who make less than 50K\n",
    "\n",
    "percentage_no_advanced_edu_below_50k = round(((len(no_advanced_edu[no_advanced_edu['salary'] == '<=50K']) / len(no_advanced_edu)) * 100),2)\n",
    "print(\"Percentage of people without advanced education making less than 50K:\", percentage_no_advanced_edu_below_50k,'%')"
   ]
  },
  {
   "cell_type": "markdown",
   "id": "839491cf-5bb1-4c19-8d41-65a7d5700c3e",
   "metadata": {},
   "source": [
    "#### The minimum number of hours a person works per week (hours-per-week feature)"
   ]
  },
  {
   "cell_type": "code",
   "execution_count": 219,
   "id": "9634bb49-ff53-495b-8a7b-03388423f667",
   "metadata": {},
   "outputs": [
    {
     "name": "stdout",
     "output_type": "stream",
     "text": [
      "count    30139.000000\n",
      "mean        40.934703\n",
      "std         11.978753\n",
      "min          1.000000\n",
      "25%         40.000000\n",
      "50%         40.000000\n",
      "75%         45.000000\n",
      "max         99.000000\n",
      "Name: hours-per-week, dtype: float64\n"
     ]
    }
   ],
   "source": [
    "# The describe() method will give more details on the hours-per-week column. \n",
    "\n",
    "hour_stats = df['hours-per-week'].describe()\n",
    "print(hour_stats)"
   ]
  },
  {
   "cell_type": "markdown",
   "id": "ff9a4fe3-c4e3-4296-a7a6-e97ee47d4f9a",
   "metadata": {},
   "source": [
    "As we can see, the minimum value of 1 is indeed valid and not an error in the dataset. This suggests that there are some individuals who reported working only 1 hour per week. \n",
    "\n",
    "However, this is relatively uncommon, as the majority of individuals work between 40 and 45 hours per week (as shown by the **median** value of 40 and the interquartile range of 40-45)."
   ]
  },
  {
   "cell_type": "markdown",
   "id": "0fa3dce9-fd37-40f9-8a42-8811df570459",
   "metadata": {},
   "source": [
    "#### What percentage of the people who work the minimum number of hours per week have a salary of >50K"
   ]
  },
  {
   "cell_type": "code",
   "execution_count": 220,
   "id": "131cd0a6-4a87-4fe7-b828-fdaa90d0ae32",
   "metadata": {},
   "outputs": [
    {
     "name": "stdout",
     "output_type": "stream",
     "text": [
      "Percentage of people who work the minimum number of hours per week and have a salary of >50K: 14.29%\n"
     ]
    }
   ],
   "source": [
    "num_min_workers = len(df[df['hours-per-week'] == min_work_hours])\n",
    "num_rich_min_workers = len(df[(df['hours-per-week'] == min_work_hours) & (df['salary'] == '>50K')])\n",
    "\n",
    "rich_percentage = (num_rich_min_workers / num_min_workers) * 100\n",
    "\n",
    "print(f\"Percentage of people who work the minimum number of hours per week and have a salary of >50K: {rich_percentage:.2f}%\")"
   ]
  },
  {
   "cell_type": "markdown",
   "id": "a219498d-9792-415f-8da9-1a4b000d0c85",
   "metadata": {},
   "source": [
    "#### Country that has the highest percentage of people that earn >50K"
   ]
  },
  {
   "cell_type": "code",
   "execution_count": 221,
   "id": "afd1f325-70d5-41af-8a60-d87de09c14da",
   "metadata": {},
   "outputs": [
    {
     "name": "stdout",
     "output_type": "stream",
     "text": [
      "The country with the highest percentage of people earning more than 50K is: Taiwan with a percentage of 45.24 %\n"
     ]
    }
   ],
   "source": [
    "# Select rows where salary is greater than 50K\n",
    "high_earners = df[df['salary'] == '>50K']\n",
    "\n",
    "# Group by country and count number of people in each group\n",
    "grouped = high_earners.groupby('native-country')['native-country'].count()\n",
    "\n",
    "# Count total number of people in each country\n",
    "total = df.groupby('native-country')['native-country'].count()\n",
    "\n",
    "# Calculate percentage of people who earn more than 50K in each country\n",
    "percentages = (grouped / total) * 100\n",
    "\n",
    "# Find country with highest percentage using panda method idxmax()\n",
    "highest_earning_country = percentages.idxmax()\n",
    "highest_percentage = round(percentages[highest_earning_country], 2)\n",
    "\n",
    "print(\"The country with the highest percentage of people earning more than 50K is:\", highest_earning_country, \"with a percentage of\", highest_percentage, \"%\")"
   ]
  },
  {
   "cell_type": "markdown",
   "id": "50cb0c44-4c5f-4a77-a7c1-3587207cdc85",
   "metadata": {},
   "source": [
    "#### Print percentage of people who earn more than 50K in each country"
   ]
  },
  {
   "cell_type": "code",
   "execution_count": 222,
   "id": "74f7acbe-0a39-4e74-aac8-8299d313e710",
   "metadata": {
    "tags": []
   },
   "outputs": [
    {
     "name": "stdout",
     "output_type": "stream",
     "text": [
      "native-country\n",
      "Dominican-Republic     2.99\n",
      "Columbia               3.57\n",
      "Guatemala              4.92\n",
      "Mexico                 5.45\n",
      "Nicaragua              6.06\n",
      "Peru                   6.67\n",
      "Vietnam                7.81\n",
      "Honduras               8.33\n",
      "El-Salvador            9.00\n",
      "Haiti                  9.52\n",
      "Puerto-Rico           11.01\n",
      "Trinadad&Tobago       11.11\n",
      "Laos                  11.76\n",
      "Portugal              11.76\n",
      "Jamaica               12.50\n",
      "Ecuador               14.81\n",
      "Thailand              17.65\n",
      "Scotland              18.18\n",
      "Poland                19.64\n",
      "South                 19.72\n",
      "Ireland               20.83\n",
      "Hungary               23.08\n",
      "United-States         25.44\n",
      "Cuba                  27.17\n",
      "Greece                27.59\n",
      "China                 29.41\n",
      "Hong                  31.58\n",
      "Philippines           31.91\n",
      "Canada                33.64\n",
      "Germany               34.38\n",
      "England               34.88\n",
      "Italy                 35.29\n",
      "Yugoslavia            37.50\n",
      "Cambodia              38.89\n",
      "Japan                 38.98\n",
      "India                 40.00\n",
      "Iran                  42.86\n",
      "France                44.44\n",
      "Taiwan                45.24\n",
      "Name: native-country, dtype: float64\n"
     ]
    },
    {
     "data": {
      "image/png": "[encoded data removed]",
      "text/plain": [
       "<Figure size 1000x600 with 1 Axes>"
      ]
     },
     "metadata": {},
     "output_type": "display_data"
    }
   ],
   "source": [
    "# Assuming 'percentages' is a pandas Series\n",
    "percentages_sorted = round((percentages.dropna().sort_values(ascending=True)), 2)\n",
    "\n",
    "# Find the country with the highest percentage\n",
    "highest_earning_country = percentages_sorted.index[0]\n",
    "highest_percentage = round(percentages_sorted.iloc[0], 2)\n",
    "\n",
    "print(percentages_sorted)\n",
    "\n",
    "# Plotting the data without NaN values\n",
    "plt.figure(figsize=(10, 6))\n",
    "percentages_sorted.plot(kind='barh', color='skyblue')\n",
    "plt.xlabel('Percentage')\n",
    "plt.ylabel('Country')\n",
    "plt.title('Percentage of People Earning >50K by Country')\n",
    "plt.grid(axis='x', linestyle='--', alpha=0.6)\n",
    "plt.tight_layout()\n",
    "plt.show()\n"
   ]
  },
  {
   "cell_type": "markdown",
   "id": "6392ac9b-fc28-4b8c-8540-ca0c1219e891",
   "metadata": {},
   "source": [
    "#### Identify the most popular occupation for those who earn >50K in India."
   ]
  },
  {
   "cell_type": "code",
   "execution_count": 223,
   "id": "3a66cf87-60f8-4acb-87ff-72d0967cf7f1",
   "metadata": {},
   "outputs": [
    {
     "name": "stdout",
     "output_type": "stream",
     "text": [
      "The most popular occupation for those who earn >50K in India is: Prof-specialty\n"
     ]
    }
   ],
   "source": [
    "# Select rows where salary is greater than 50K and native country is India\n",
    "high_earning_indians = df[(df['salary'] == '>50K') & (df['native-country'] == 'India')]\n",
    "\n",
    "# Group by occupation and count number of people in each group\n",
    "grouped = high_earning_indians['occupation'].value_counts()\n",
    "\n",
    "# Find the occupation with the highest count\n",
    "most_popular_occupation = grouped.idxmax()\n",
    "\n",
    "print(\"The most popular occupation for those who earn >50K in India is:\", most_popular_occupation)"
   ]
  },
  {
   "cell_type": "markdown",
   "metadata": {},
   "source": [
    "## 4- Conclusion ✍️\n",
    "![green-divider](https://user-images.githubusercontent.com/7065401/52071924-c003ad80-2562-11e9-8297-1c6595f8a7ff.png)"
   ]
  },
  {
   "cell_type": "markdown",
   "metadata": {},
   "source": [
    "**Summary of Findings:**\n",
    "\n",
    "Representation of Different Races:\n",
    "\n",
    "- White: 25,912\n",
    "- Black: 2,816\n",
    "- Asian-Pac-Islander: 894\n",
    "- Amer-Indian-Eskimo: 286\n",
    "- Other: 231\n",
    "\n",
    "Salary Distributions:\n",
    "\n",
    "- <=50K: 22,633 and >50K: 7,506\n",
    "\n",
    "- Average Age of Men: 39\n",
    "- 16.73% of individuals in the dataset have a Bachelor's degree.\n",
    "\n",
    "Income Distribution Based on Education Levels:\n",
    "\n",
    "- Percentage of people with advanced education (> Bachelor's) making >50K: 47.2%\n",
    "- Percentage of people without advanced education making >50K: 1.11%\n",
    "- Percentage of people with advanced education making <=50K: 52.8%\n",
    "- Percentage of people without advanced education making <=50K: 81.89%\n",
    "\n",
    "Minimum Weekly Working Hours and Its Relation to Income:\n",
    "\n",
    "- The minimum value of 1 hour per week is valid.\n",
    "- Majority work between 40 and 45 hours per week.\n",
    "- Percentage of people working the minimum hours per week (<50K): 85.71%\n",
    "\n",
    "Countries with the Highest Percentage of Individuals Earning >50K:\n",
    "\n",
    "- Taiwan has the highest percentage of people earning >50K (45.24%).\n",
    "- Prof-specialty is the most popular occupation for those earning >50K in India.\n",
    "\n",
    "**Limitations of the dataset:**\n",
    "\n",
    "- Missing Values:\n",
    "\n",
    "The presence of missing values, represented as '?' in some columns, may affect the accuracy of analyses. Understanding the nature of these missing values and implementing appropriate strategies for handling them is crucial. \n",
    "Decided to replace ? with NaN and remove any rows with NaN\n",
    "\n",
    "- Representativeness:\n",
    "\n",
    "The dataset might not be fully representative of the entire population, as it could be subject to selection biases. Understanding the demographics of the dataset compared to the broader population is essential for drawing valid conclusions.\n",
    "\n",
    "- Categorical Encoding:\n",
    "\n",
    "Categorical variables, especially those related to race and education, are encoded in a specific way. The choice of encoding may influence the results of analyses, and it's important to be aware of how these variables are represented.\n",
    "\n",
    "- Occupation Categories:\n",
    "\n",
    "The occupation categories might be broad and not provide a detailed understanding of specific job roles or industries. A more granular breakdown of occupations could enhance the depth of analysis.\n",
    "\n",
    "- Temporal Aspect:\n",
    "\n",
    "The dataset might not capture changes over time. Economic, social, or cultural shifts could impact income and employment patterns, and a temporal analysis would provide a more comprehensive picture.\n",
    "\n",
    "\n",
    "\n"
   ]
  },
  {
   "cell_type": "markdown",
   "metadata": {},
   "source": []
  }
 ],
 "metadata": {
  "kernelspec": {
   "display_name": "Python 3 (ipykernel)",
   "language": "python",
   "name": "python3"
  },
  "language_info": {
   "codemirror_mode": {
    "name": "ipython",
    "version": 3
   },
   "file_extension": ".py",
   "mimetype": "text/x-python",
   "name": "python",
   "nbconvert_exporter": "python",
   "pygments_lexer": "ipython3",
   "version": "3.11.5"
  }
 },
 "nbformat": 4,
 "nbformat_minor": 5
}
